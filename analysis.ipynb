{
 "cells": [
  {
   "cell_type": "code",
   "execution_count": 1,
   "metadata": {},
   "outputs": [],
   "source": [
    "import pandas as pd"
   ]
  },
  {
   "cell_type": "code",
   "execution_count": 2,
   "metadata": {},
   "outputs": [],
   "source": [
    "train = pd.read_pickle(\"dataset/train.bin.zst\")"
   ]
  },
  {
   "cell_type": "code",
   "execution_count": 3,
   "metadata": {},
   "outputs": [
    {
     "data": {
      "text/html": [
       "<div>\n",
       "<style scoped>\n",
       "    .dataframe tbody tr th:only-of-type {\n",
       "        vertical-align: middle;\n",
       "    }\n",
       "\n",
       "    .dataframe tbody tr th {\n",
       "        vertical-align: top;\n",
       "    }\n",
       "\n",
       "    .dataframe thead th {\n",
       "        text-align: right;\n",
       "    }\n",
       "</style>\n",
       "<table border=\"1\" class=\"dataframe\">\n",
       "  <thead>\n",
       "    <tr style=\"text-align: right;\">\n",
       "      <th></th>\n",
       "      <th>movie</th>\n",
       "      <th>name</th>\n",
       "      <th>user_id</th>\n",
       "      <th>note</th>\n",
       "      <th>commentaire</th>\n",
       "    </tr>\n",
       "    <tr>\n",
       "      <th>review_id</th>\n",
       "      <th></th>\n",
       "      <th></th>\n",
       "      <th></th>\n",
       "      <th></th>\n",
       "      <th></th>\n",
       "    </tr>\n",
       "  </thead>\n",
       "  <tbody>\n",
       "    <tr>\n",
       "      <th>2413179</th>\n",
       "      <td>126693</td>\n",
       "      <td>sebwalker</td>\n",
       "      <td>Z20060107094521777557137</td>\n",
       "      <td>5.0</td>\n",
       "      <td>un Harry potter sombre et emouvant tjrs aussi ...</td>\n",
       "    </tr>\n",
       "    <tr>\n",
       "      <th>2472213</th>\n",
       "      <td>114782</td>\n",
       "      <td>Phil H</td>\n",
       "      <td>Z20060318182114470983716</td>\n",
       "      <td>2.5</td>\n",
       "      <td>Je l'ai entendu, attendu et finalement vu hier...</td>\n",
       "    </tr>\n",
       "    <tr>\n",
       "      <th>2472232</th>\n",
       "      <td>128188</td>\n",
       "      <td>Phil H</td>\n",
       "      <td>Z20060318182114470983716</td>\n",
       "      <td>4.0</td>\n",
       "      <td>Vu hier soir, un excellent film bourré de jeux...</td>\n",
       "    </tr>\n",
       "    <tr>\n",
       "      <th>2487223</th>\n",
       "      <td>126678</td>\n",
       "      <td>spider1990</td>\n",
       "      <td>Z20070429202537840527684</td>\n",
       "      <td>0.5</td>\n",
       "      <td>Le film contient quelques beaux décors, mais ç...</td>\n",
       "    </tr>\n",
       "    <tr>\n",
       "      <th>2835340</th>\n",
       "      <td>128188</td>\n",
       "      <td>spider1990</td>\n",
       "      <td>Z20070429202537840527684</td>\n",
       "      <td>3.0</td>\n",
       "      <td>L'homme araignée est de retour pour une nouvel...</td>\n",
       "    </tr>\n",
       "    <tr>\n",
       "      <th>...</th>\n",
       "      <td>...</td>\n",
       "      <td>...</td>\n",
       "      <td>...</td>\n",
       "      <td>...</td>\n",
       "      <td>...</td>\n",
       "    </tr>\n",
       "    <tr>\n",
       "      <th>1007285816</th>\n",
       "      <td>241132</td>\n",
       "      <td>Agathe Nogues</td>\n",
       "      <td>Z20200519030838474204775</td>\n",
       "      <td>5.0</td>\n",
       "      <td>Un film incroyable! Ce film est à la fois touc...</td>\n",
       "    </tr>\n",
       "    <tr>\n",
       "      <th>1007286675</th>\n",
       "      <td>247810</td>\n",
       "      <td>Mina Traoré</td>\n",
       "      <td>Z20200519042856506959012</td>\n",
       "      <td>1.0</td>\n",
       "      <td>On a perdu 1h 30 de notre vie pour ce film inc...</td>\n",
       "    </tr>\n",
       "    <tr>\n",
       "      <th>1007288017</th>\n",
       "      <td>230726</td>\n",
       "      <td>rouxguigui</td>\n",
       "      <td>Z20090703110154173994469</td>\n",
       "      <td>3.5</td>\n",
       "      <td>Un film gentil, mignon et avec de belles image...</td>\n",
       "    </tr>\n",
       "    <tr>\n",
       "      <th>1007290041</th>\n",
       "      <td>262297</td>\n",
       "      <td>Camworlds</td>\n",
       "      <td>Z20180507120608267244437</td>\n",
       "      <td>4.0</td>\n",
       "      <td>Un bon film divertissant qui donne le sourire ...</td>\n",
       "    </tr>\n",
       "    <tr>\n",
       "      <th>1007291957</th>\n",
       "      <td>253962</td>\n",
       "      <td>ferdinand75</td>\n",
       "      <td>Z20081112095130247671186</td>\n",
       "      <td>2.0</td>\n",
       "      <td>Ce pauvre Casonava parait  bien ridicule dans ...</td>\n",
       "    </tr>\n",
       "  </tbody>\n",
       "</table>\n",
       "<p>665962 rows × 5 columns</p>\n",
       "</div>"
      ],
      "text/plain": [
       "             movie           name                   user_id  note  \\\n",
       "review_id                                                           \n",
       "2413179     126693      sebwalker  Z20060107094521777557137   5.0   \n",
       "2472213     114782         Phil H  Z20060318182114470983716   2.5   \n",
       "2472232     128188         Phil H  Z20060318182114470983716   4.0   \n",
       "2487223     126678     spider1990  Z20070429202537840527684   0.5   \n",
       "2835340     128188     spider1990  Z20070429202537840527684   3.0   \n",
       "...            ...            ...                       ...   ...   \n",
       "1007285816  241132  Agathe Nogues  Z20200519030838474204775   5.0   \n",
       "1007286675  247810    Mina Traoré  Z20200519042856506959012   1.0   \n",
       "1007288017  230726     rouxguigui  Z20090703110154173994469   3.5   \n",
       "1007290041  262297      Camworlds  Z20180507120608267244437   4.0   \n",
       "1007291957  253962    ferdinand75  Z20081112095130247671186   2.0   \n",
       "\n",
       "                                                  commentaire  \n",
       "review_id                                                      \n",
       "2413179     un Harry potter sombre et emouvant tjrs aussi ...  \n",
       "2472213     Je l'ai entendu, attendu et finalement vu hier...  \n",
       "2472232     Vu hier soir, un excellent film bourré de jeux...  \n",
       "2487223     Le film contient quelques beaux décors, mais ç...  \n",
       "2835340     L'homme araignée est de retour pour une nouvel...  \n",
       "...                                                       ...  \n",
       "1007285816  Un film incroyable! Ce film est à la fois touc...  \n",
       "1007286675  On a perdu 1h 30 de notre vie pour ce film inc...  \n",
       "1007288017  Un film gentil, mignon et avec de belles image...  \n",
       "1007290041  Un bon film divertissant qui donne le sourire ...  \n",
       "1007291957  Ce pauvre Casonava parait  bien ridicule dans ...  \n",
       "\n",
       "[665962 rows x 5 columns]"
      ]
     },
     "execution_count": 3,
     "metadata": {},
     "output_type": "execute_result"
    }
   ],
   "source": [
    "train"
   ]
  },
  {
   "cell_type": "code",
   "execution_count": 5,
   "metadata": {},
   "outputs": [
    {
     "data": {
      "text/plain": [
       "<AxesSubplot:ylabel='Frequency'>"
      ]
     },
     "execution_count": 5,
     "metadata": {},
     "output_type": "execute_result"
    },
    {
     "data": {
      "image/png": "[encoded data removed]",
      "text/plain": [
       "<Figure size 640x480 with 1 Axes>"
      ]
     },
     "metadata": {},
     "output_type": "display_data"
    }
   ],
   "source": [
    "train[\"note\"].plot.hist()"
   ]
  }
 ],
 "metadata": {
  "kernelspec": {
   "display_name": "Python 3.10.4 ('torchgeometric')",
   "language": "python",
   "name": "python3"
  },
  "language_info": {
   "codemirror_mode": {
    "name": "ipython",
    "version": 3
   },
   "file_extension": ".py",
   "mimetype": "text/x-python",
   "name": "python",
   "nbconvert_exporter": "python",
   "pygments_lexer": "ipython3",
   "version": "3.10.4"
  },
  "orig_nbformat": 4,
  "vscode": {
   "interpreter": {
    "hash": "14ce8c85750300aa53ae154c907032a1f1dc7df15b209fc52e1c268adc2c5009"
   }
  }
 },
 "nbformat": 4,
 "nbformat_minor": 2
}
